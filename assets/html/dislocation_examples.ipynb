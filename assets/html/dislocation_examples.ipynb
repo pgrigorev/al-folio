{
 "cells": [
  {
   "cell_type": "code",
   "execution_count": 9,
   "metadata": {},
   "outputs": [],
   "source": [
    "import numpy as np\n",
    "import nglview # this import is necessary for rendering of the 3D view\n",
    "import sys\n",
    "sys.path.append(\"../../../matscipy/docs/applications\")\n",
    "from visualisation import show_dislocation"
   ]
  },
  {
   "cell_type": "code",
   "execution_count": 10,
   "metadata": {},
   "outputs": [
    {
     "name": "stdout",
     "output_type": "stream",
     "text": [
      "disloc SCF 0 |d1-d2|_inf = 0.0014004070350306375\n",
      "disloc SCF 1 |d1-d2|_inf = 6.702193447782889e-06\n",
      "disloc SCF 2 |d1-d2|_inf = 3.207553511686001e-08\n"
     ]
    }
   ],
   "source": [
    "from matscipy.dislocation import BCCScrew111Dislocation\n",
    "W_params = [3.143, 538.90, 219.93, 178.80]\n",
    "W_screw = BCCScrew111Dislocation(*W_params, symbol=\"W\")\n",
    "W_screw_bulk, W_screw_dislo = W_screw.build_cylinder(radius=20)\n",
    "view1 = show_dislocation(W_screw_dislo, d_name=\"1/2<111> screw\")\n"
   ]
  },
  {
   "cell_type": "code",
   "execution_count": 11,
   "metadata": {},
   "outputs": [
    {
     "name": "stdout",
     "output_type": "stream",
     "text": [
      "disloc SCF 0 |d1-d2|_inf = 0.02578635249849609\n",
      "disloc SCF 1 |d1-d2|_inf = 0.000968286746150071\n",
      "disloc SCF 2 |d1-d2|_inf = 0.00019061961503846758\n",
      "disloc SCF 3 |d1-d2|_inf = 6.2411196626579665e-06\n",
      "disloc SCF 4 |d1-d2|_inf = 1.1076007152555079e-06\n",
      "disloc SCF 5 |d1-d2|_inf = 4.976289935676448e-08\n",
      "disloc SCF 0 |d1-d2|_inf = 0.03226306842287546\n",
      "disloc SCF 1 |d1-d2|_inf = 0.00214698259185727\n",
      "disloc SCF 2 |d1-d2|_inf = 0.00026768040270827576\n",
      "disloc SCF 3 |d1-d2|_inf = 2.7238272580026868e-05\n",
      "disloc SCF 4 |d1-d2|_inf = 1.5324112329767603e-06\n",
      "disloc SCF 5 |d1-d2|_inf = 2.938792126871981e-07\n"
     ]
    }
   ],
   "source": [
    "from matscipy.dislocation import FCCScrew110Dislocation\n",
    "Ni_params = [3.520, 244.07, 148.85, 125.62]\n",
    "Ni_screw = FCCScrew110Dislocation(*Ni_params, symbol=\"Ni\")\n",
    "Ni_screw_bulk, Ni_screw_dislo = Ni_screw.build_cylinder(radius=20, partial_distance=5)\n",
    "view2 = show_dislocation(Ni_screw_dislo, \n",
    "                 partial_distance=5 * Ni_screw.glide_distance,\n",
    "                 d_name=\"1/6<112> Shockley partial screw\")"
   ]
  },
  {
   "cell_type": "code",
   "execution_count": 12,
   "metadata": {},
   "outputs": [],
   "source": [
    "from matscipy.dislocation import DiamondGlide60Degree\n",
    "Si_parms = [5.431, 201.46, 51.64, 118.18]\n",
    "Si_60_degree_screw = DiamondGlide60Degree(*Si_parms, symbol=\"Si\")\n",
    "Si_60_degree_screw_bulk, \\\n",
    "Si_60_degree_screw_dislo = Si_60_degree_screw.build_cylinder(radius=20, \n",
    "                                                             partial_distance=5)\n",
    "\n",
    "view3 = show_dislocation(Si_60_degree_screw_dislo, \n",
    "                 diamond_structure=True, \n",
    "                 scale=0.3, \n",
    "                 add_bonds=True, \n",
    "                 d_color=[1, 0, 1],\n",
    "                 partial_distance=5 * Si_60_degree_screw.glide_distance, \n",
    "                 d_name=[\"1/6<112> 90 degree partial screw\", \n",
    "                         \"1/6<112> 30 degree partial screw\"])"
   ]
  },
  {
   "cell_type": "code",
   "execution_count": 13,
   "metadata": {},
   "outputs": [],
   "source": [
    "from ase.build import bulk\n",
    "from matscipy.dislocation import DiamondGlide90degreePartial\n",
    "\n",
    "# Data from https://doi.org/10.1080/08927022.2011.602975\n",
    "alat = 11.2402/2\n",
    "C11 = 120.31\n",
    "C12 = 55.87\n",
    "C44 = 58.26\n",
    "\n",
    "GaAs = bulk(\"GaAs\", crystalstructure=\"zincblende\", cubic=True, a=alat)\n",
    "\n",
    "\n",
    "disloc = DiamondGlide90degreePartial(GaAs, C11, C12, C44)\n",
    "\n",
    "GaAs_bulk, GaAs_dislocation = disloc.build_cylinder(radius=3 * alat)\n",
    "\n",
    "show_dislocation(GaAs_dislocation, scale=0.35, d_name=\"GaAs 1/6<112> Beta-90 degree partial\", \n",
    "                 diamond_structure=True, CNA_color=False, add_bonds=True)\n",
    "\n",
    "import numpy as np\n",
    "\n",
    "np.random.seed(1)\n",
    "\n",
    "species = np.array(GaAs_dislocation.get_chemical_symbols())\n",
    "\n",
    "Ga_idxs = np.argwhere(species == \"Ga\")[:, 0]\n",
    "\n",
    "# Choose random half of the idxs to be In\n",
    "In_idxs = sorted(np.random.choice(Ga_idxs, size=int(Ga_idxs.shape[0]/2), replace=False))\n",
    "\n",
    "# Introduce the chemical disorder in In-Ga sites\n",
    "species[In_idxs] = \"In\"\n",
    "\n",
    "InGaAs_bulk = GaAs_bulk.copy()\n",
    "InGaAs_bulk.set_chemical_symbols(species)\n",
    "\n",
    "InGaAs_dislocation = GaAs_dislocation.copy()\n",
    "InGaAs_dislocation.set_chemical_symbols(species)\n",
    "\n",
    "view4 = show_dislocation(InGaAs_dislocation, scale=0.35, d_name=\"InGaAs 1/6<112> Beta-90 degree partial\", \n",
    "                        diamond_structure=True, CNA_color=False, add_bonds=True)\n",
    "\n",
    "# In and Ga have almost the same default colors in nglview\n",
    "# so we add another component with the In atoms in red to\n",
    "# see the chemical disorder better\n",
    "In_ats = InGaAs_dislocation[In_idxs]\n",
    "c = view4.add_component(nglview.ASEStructure(In_ats),\n",
    "                        default_representation=False)\n",
    "c.add_spacefill(radius=1.0, color=\"red\")\n",
    "#view.add_spacefill(selection='#Ga', radius=1.0,\n",
    "#                   color=\"yellow\")\n",
    "#view"
   ]
  },
  {
   "cell_type": "code",
   "execution_count": 14,
   "metadata": {},
   "outputs": [],
   "source": [
    "from ipywidgets import HBox"
   ]
  },
  {
   "cell_type": "code",
   "execution_count": 15,
   "metadata": {},
   "outputs": [],
   "source": [
    "for v in [view1, view4]:\n",
    "    v.control.zoom(0.15)\n",
    "\n",
    "for v in [view3, view2]:\n",
    "    v.control.zoom(0.3)"
   ]
  },
  {
   "cell_type": "code",
   "execution_count": 16,
   "metadata": {},
   "outputs": [],
   "source": [
    "demo1 = HBox([view1, view2])\n",
    "demo2 = HBox([view3, view4])\n",
    "\n",
    "from ipywidgets.embed import embed_minimal_html\n",
    "\n",
    "embed_minimal_html(\"W_Ni_demo.html\", [demo1])\n",
    "embed_minimal_html(\"Si_GaAs_demo.html\", [demo2])\n"
   ]
  },
  {
   "cell_type": "code",
   "execution_count": null,
   "metadata": {},
   "outputs": [],
   "source": []
  },
  {
   "cell_type": "code",
   "execution_count": null,
   "metadata": {},
   "outputs": [],
   "source": []
  }
 ],
 "metadata": {
  "kernelspec": {
   "display_name": "base",
   "language": "python",
   "name": "python3"
  },
  "language_info": {
   "codemirror_mode": {
    "name": "ipython",
    "version": 3
   },
   "file_extension": ".py",
   "mimetype": "text/x-python",
   "name": "python",
   "nbconvert_exporter": "python",
   "pygments_lexer": "ipython3",
   "version": "3.9.15"
  }
 },
 "nbformat": 4,
 "nbformat_minor": 2
}
